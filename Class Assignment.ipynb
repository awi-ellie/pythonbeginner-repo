{
 "cells": [
  {
   "cell_type": "code",
   "execution_count": 32,
   "metadata": {},
   "outputs": [
    {
     "name": "stdout",
     "output_type": "stream",
     "text": [
      "Enter first number: 7\n"
     ]
    }
   ],
   "source": [
    "num_1=int(input(\"Enter first number: \"))"
   ]
  },
  {
   "cell_type": "code",
   "execution_count": 33,
   "metadata": {},
   "outputs": [
    {
     "name": "stdout",
     "output_type": "stream",
     "text": [
      "Enter second number: 9\n"
     ]
    }
   ],
   "source": [
    "num_2=int(input(\"Enter second number: \"))"
   ]
  },
  {
   "cell_type": "code",
   "execution_count": 34,
   "metadata": {},
   "outputs": [
    {
     "name": "stdout",
     "output_type": "stream",
     "text": [
      " Enter third number: 5\n"
     ]
    }
   ],
   "source": [
    "num_3=int(input(\" Enter third number: \"))"
   ]
  },
  {
   "cell_type": "code",
   "execution_count": 35,
   "metadata": {},
   "outputs": [
    {
     "name": "stdout",
     "output_type": "stream",
     "text": [
      "The greatest number is 9\n",
      "The least number is 5\n"
     ]
    }
   ],
   "source": [
    "if (num_1 >= num_2) and (num_1 >= num_3):\n",
    "    greatest= num_1\n",
    "elif (num_2 >= num_1) and (num_2 >= num_3):\n",
    "    greatest= num_2\n",
    "else:\n",
    "    greatest= num_3\n",
    "print(\"The greatest number is \" + str(greatest))\n",
    "if (num_1<= num_2) and (num_1<= num_3):\n",
    "    least = num_1\n",
    "elif (num_2 <= num_1) and (num_2 <= num_3):\n",
    "    least = num_2 \n",
    "else:\n",
    "    least = num_3\n",
    "    print(\"The least number is \" + str(least))"
   ]
  },
  {
   "cell_type": "code",
   "execution_count": null,
   "metadata": {},
   "outputs": [],
   "source": []
  },
  {
   "cell_type": "code",
   "execution_count": null,
   "metadata": {},
   "outputs": [],
   "source": []
  }
 ],
 "metadata": {
  "kernelspec": {
   "display_name": "Python 3 (ipykernel)",
   "language": "python",
   "name": "python3"
  },
  "language_info": {
   "codemirror_mode": {
    "name": "ipython",
    "version": 3
   },
   "file_extension": ".py",
   "mimetype": "text/x-python",
   "name": "python",
   "nbconvert_exporter": "python",
   "pygments_lexer": "ipython3",
   "version": "3.9.12"
  }
 },
 "nbformat": 4,
 "nbformat_minor": 2
}
